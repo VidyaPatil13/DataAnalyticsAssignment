{
 "cells": [
  {
   "cell_type": "markdown",
   "id": "e6f41320",
   "metadata": {},
   "source": [
    "# Road Safety Project UK"
   ]
  },
  {
   "cell_type": "code",
   "execution_count": null,
   "id": "8c6cfa57",
   "metadata": {},
   "outputs": [],
   "source": [
    "## importing required libraries"
   ]
  },
  {
   "cell_type": "code",
   "execution_count": 89,
   "id": "18aef459",
   "metadata": {},
   "outputs": [],
   "source": [
    "import pymysql\n",
    "import pandas as pd\n",
    "import numpy as np\n",
    "import statistics as st"
   ]
  },
  {
   "cell_type": "code",
   "execution_count": null,
   "id": "63e80004",
   "metadata": {},
   "outputs": [],
   "source": [
    "## Connection with mysql database"
   ]
  },
  {
   "cell_type": "code",
   "execution_count": 80,
   "id": "a67e3a11",
   "metadata": {},
   "outputs": [],
   "source": [
    "connection = pymysql.connect(host ='localhost' , user = 'root', password = 'Desai@123', database = 'road_safetyUK')\n",
    "curmysql = connection.cursor()"
   ]
  },
  {
   "cell_type": "code",
   "execution_count": 91,
   "id": "5948b618",
   "metadata": {},
   "outputs": [],
   "source": [
    "query  = \"\"\"insert into severity select vt.vehicle_type, a.accident_severity\n",
    "from accidents a \n",
    "inner join vehicles v\n",
    "on a.accident_index = v.accident_index\n",
    "inner join vehicle_types vt\n",
    "on v.vehicle_code = vt.vehicle_code\n",
    "where vt.vehicle_type like '%Motorcycle%'\"\"\""
   ]
  },
  {
   "cell_type": "code",
   "execution_count": null,
   "id": "2948a1e1",
   "metadata": {},
   "outputs": [],
   "source": [
    "## Fetching the result set from query"
   ]
  },
  {
   "cell_type": "code",
   "execution_count": 93,
   "id": "19f0f81e",
   "metadata": {},
   "outputs": [],
   "source": [
    "curmysql.execute(\"select sev from severity\")\n",
    "result = curmysql.fetchall()"
   ]
  },
  {
   "cell_type": "code",
   "execution_count": null,
   "id": "20491bf7",
   "metadata": {},
   "outputs": [],
   "source": [
    "## Severity Median using Statistics.median() function"
   ]
  },
  {
   "cell_type": "code",
   "execution_count": 90,
   "id": "0bc82c20",
   "metadata": {},
   "outputs": [],
   "source": [
    "final_result = [i[0] for i in result]"
   ]
  },
  {
   "cell_type": "code",
   "execution_count": 94,
   "id": "76a32238",
   "metadata": {
    "scrolled": true
   },
   "outputs": [
    {
     "name": "stdout",
     "output_type": "stream",
     "text": [
      "3\n"
     ]
    }
   ],
   "source": [
    "print(st.median(final_result))"
   ]
  },
  {
   "cell_type": "code",
   "execution_count": null,
   "id": "186d4b19",
   "metadata": {},
   "outputs": [],
   "source": [
    "## Severity Median using Numpy.median() function"
   ]
  },
  {
   "cell_type": "code",
   "execution_count": 97,
   "id": "322a9b14",
   "metadata": {},
   "outputs": [
    {
     "name": "stdout",
     "output_type": "stream",
     "text": [
      "3.0\n"
     ]
    }
   ],
   "source": [
    "print(np.median(result))"
   ]
  },
  {
   "cell_type": "code",
   "execution_count": null,
   "id": "4aeae17b",
   "metadata": {},
   "outputs": [],
   "source": [
    "## Median calculation using UDF"
   ]
  },
  {
   "cell_type": "code",
   "execution_count": 98,
   "id": "f26a05d4",
   "metadata": {
    "scrolled": true
   },
   "outputs": [],
   "source": [
    "def calculate_median(dataset):\n",
    "    sorteddataset = sorted(dataset)\n",
    "    lstLen = len(dataset)\n",
    "    index = (lstLen - 1) // 2\n",
    "   \n",
    "    if (lstLen % 2):\n",
    "        return sorteddataset[index]\n",
    "    else:\n",
    "        return (sorteddataset[index] + sorteddataset[index + 1])/2.0"
   ]
  },
  {
   "cell_type": "code",
   "execution_count": 99,
   "id": "42b0410a",
   "metadata": {},
   "outputs": [
    {
     "data": {
      "text/plain": [
       "3"
      ]
     },
     "execution_count": 99,
     "metadata": {},
     "output_type": "execute_result"
    }
   ],
   "source": [
    "calculate_median(final_result)"
   ]
  }
 ],
 "metadata": {
  "kernelspec": {
   "display_name": "Python 3 (ipykernel)",
   "language": "python",
   "name": "python3"
  },
  "language_info": {
   "codemirror_mode": {
    "name": "ipython",
    "version": 3
   },
   "file_extension": ".py",
   "mimetype": "text/x-python",
   "name": "python",
   "nbconvert_exporter": "python",
   "pygments_lexer": "ipython3",
   "version": "3.9.12"
  }
 },
 "nbformat": 4,
 "nbformat_minor": 5
}
